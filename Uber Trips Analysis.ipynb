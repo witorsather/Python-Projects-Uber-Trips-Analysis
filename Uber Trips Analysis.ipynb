{
 "cells": [
  {
   "cell_type": "markdown",
   "id": "1b38edc7",
   "metadata": {},
   "source": [
    "### Steps\n",
    "#### 1- Import necessary libraries\n",
    "#### 2- Read the dataset using Pandas\n",
    "#### 3- Explore the dataset properties\n",
    "#### 4- Visualize the relationship between different variables and draw insights"
   ]
  },
  {
   "cell_type": "code",
   "execution_count": 1,
   "id": "04636cfa",
   "metadata": {},
   "outputs": [],
   "source": [
    "#To read the dataset\n",
    "import pandas as pd \n",
    "\n",
    "#For visualization\n",
    "import matplotlib.pyplot as plt\n",
    "\n",
    "# The method that you mean called Reverse Geocode. You can use Nominatim (OSM) for free geocode service\n",
    "from geopy.geocoders import Nominatim\n",
    "from geopy.extra.rate_limiter import RateLimiter\n",
    "\n",
    "# explore the data and show this in a map using Plotly Express. With just one line of code, you can show a map with a base map.\n",
    "import plotly_express as px\n",
    "\n",
    "# import tqdm\n",
    "# from tqdm._tqdm_notebook import tqdm_notebook\n",
    "\n",
    "from tqdm import tqdm\n",
    "\n",
    "from ipywidgets import FloatProgress\n"
   ]
  },
  {
   "cell_type": "markdown",
   "id": "b50d2c08",
   "metadata": {},
   "source": []
  },
  {
   "cell_type": "code",
   "execution_count": 2,
   "id": "56211e68",
   "metadata": {},
   "outputs": [
    {
     "data": {
      "text/html": [
       "<div>\n",
       "<style scoped>\n",
       "    .dataframe tbody tr th:only-of-type {\n",
       "        vertical-align: middle;\n",
       "    }\n",
       "\n",
       "    .dataframe tbody tr th {\n",
       "        vertical-align: top;\n",
       "    }\n",
       "\n",
       "    .dataframe thead th {\n",
       "        text-align: right;\n",
       "    }\n",
       "</style>\n",
       "<table border=\"1\" class=\"dataframe\">\n",
       "  <thead>\n",
       "    <tr style=\"text-align: right;\">\n",
       "      <th></th>\n",
       "      <th>Date/Time</th>\n",
       "      <th>Lat</th>\n",
       "      <th>Lon</th>\n",
       "      <th>Base</th>\n",
       "    </tr>\n",
       "  </thead>\n",
       "  <tbody>\n",
       "    <tr>\n",
       "      <th>0</th>\n",
       "      <td>9/1/2014 0:01:00</td>\n",
       "      <td>40.2201</td>\n",
       "      <td>-74.0021</td>\n",
       "      <td>B02512</td>\n",
       "    </tr>\n",
       "    <tr>\n",
       "      <th>1</th>\n",
       "      <td>9/1/2014 0:01:00</td>\n",
       "      <td>40.7500</td>\n",
       "      <td>-74.0027</td>\n",
       "      <td>B02512</td>\n",
       "    </tr>\n",
       "    <tr>\n",
       "      <th>2</th>\n",
       "      <td>9/1/2014 0:03:00</td>\n",
       "      <td>40.7559</td>\n",
       "      <td>-73.9864</td>\n",
       "      <td>B02512</td>\n",
       "    </tr>\n",
       "    <tr>\n",
       "      <th>3</th>\n",
       "      <td>9/1/2014 0:06:00</td>\n",
       "      <td>40.7450</td>\n",
       "      <td>-73.9889</td>\n",
       "      <td>B02512</td>\n",
       "    </tr>\n",
       "    <tr>\n",
       "      <th>4</th>\n",
       "      <td>9/1/2014 0:11:00</td>\n",
       "      <td>40.8145</td>\n",
       "      <td>-73.9444</td>\n",
       "      <td>B02512</td>\n",
       "    </tr>\n",
       "  </tbody>\n",
       "</table>\n",
       "</div>"
      ],
      "text/plain": [
       "          Date/Time      Lat      Lon    Base\n",
       "0  9/1/2014 0:01:00  40.2201 -74.0021  B02512\n",
       "1  9/1/2014 0:01:00  40.7500 -74.0027  B02512\n",
       "2  9/1/2014 0:03:00  40.7559 -73.9864  B02512\n",
       "3  9/1/2014 0:06:00  40.7450 -73.9889  B02512\n",
       "4  9/1/2014 0:11:00  40.8145 -73.9444  B02512"
      ]
     },
     "execution_count": 2,
     "metadata": {},
     "output_type": "execute_result"
    }
   ],
   "source": [
    "#Read the dataset\n",
    "uber_df= pd.read_csv(\"uber-raw-data-sep14.csv\", nrows=100)\n",
    "\n",
    "#Display the first 5 records\n",
    "uber_df.head(5)"
   ]
  },
  {
   "cell_type": "code",
   "execution_count": 3,
   "id": "4b06729b",
   "metadata": {},
   "outputs": [
    {
     "data": {
      "text/html": [
       "<div>\n",
       "<style scoped>\n",
       "    .dataframe tbody tr th:only-of-type {\n",
       "        vertical-align: middle;\n",
       "    }\n",
       "\n",
       "    .dataframe tbody tr th {\n",
       "        vertical-align: top;\n",
       "    }\n",
       "\n",
       "    .dataframe thead th {\n",
       "        text-align: right;\n",
       "    }\n",
       "</style>\n",
       "<table border=\"1\" class=\"dataframe\">\n",
       "  <thead>\n",
       "    <tr style=\"text-align: right;\">\n",
       "      <th></th>\n",
       "      <th>Date/Time</th>\n",
       "      <th>Lat</th>\n",
       "      <th>Lon</th>\n",
       "      <th>Base</th>\n",
       "    </tr>\n",
       "  </thead>\n",
       "  <tbody>\n",
       "    <tr>\n",
       "      <th>95</th>\n",
       "      <td>9/1/2014 9:40:00</td>\n",
       "      <td>40.7560</td>\n",
       "      <td>-73.9734</td>\n",
       "      <td>B02512</td>\n",
       "    </tr>\n",
       "    <tr>\n",
       "      <th>96</th>\n",
       "      <td>9/1/2014 9:40:00</td>\n",
       "      <td>40.7654</td>\n",
       "      <td>-73.9826</td>\n",
       "      <td>B02512</td>\n",
       "    </tr>\n",
       "    <tr>\n",
       "      <th>97</th>\n",
       "      <td>9/1/2014 9:42:00</td>\n",
       "      <td>40.7629</td>\n",
       "      <td>-73.9815</td>\n",
       "      <td>B02512</td>\n",
       "    </tr>\n",
       "    <tr>\n",
       "      <th>98</th>\n",
       "      <td>9/1/2014 9:42:00</td>\n",
       "      <td>40.7587</td>\n",
       "      <td>-73.9843</td>\n",
       "      <td>B02512</td>\n",
       "    </tr>\n",
       "    <tr>\n",
       "      <th>99</th>\n",
       "      <td>9/1/2014 9:43:00</td>\n",
       "      <td>40.7740</td>\n",
       "      <td>-73.8722</td>\n",
       "      <td>B02512</td>\n",
       "    </tr>\n",
       "  </tbody>\n",
       "</table>\n",
       "</div>"
      ],
      "text/plain": [
       "           Date/Time      Lat      Lon    Base\n",
       "95  9/1/2014 9:40:00  40.7560 -73.9734  B02512\n",
       "96  9/1/2014 9:40:00  40.7654 -73.9826  B02512\n",
       "97  9/1/2014 9:42:00  40.7629 -73.9815  B02512\n",
       "98  9/1/2014 9:42:00  40.7587 -73.9843  B02512\n",
       "99  9/1/2014 9:43:00  40.7740 -73.8722  B02512"
      ]
     },
     "execution_count": 3,
     "metadata": {},
     "output_type": "execute_result"
    }
   ],
   "source": [
    "#Display the last 5 records\n",
    "uber_df.tail()"
   ]
  },
  {
   "cell_type": "code",
   "execution_count": 4,
   "id": "a57399a1",
   "metadata": {},
   "outputs": [
    {
     "data": {
      "text/plain": [
       "(100, 4)"
      ]
     },
     "execution_count": 4,
     "metadata": {},
     "output_type": "execute_result"
    }
   ],
   "source": [
    "#Find the shape of the dataset\n",
    "uber_df.shape"
   ]
  },
  {
   "cell_type": "code",
   "execution_count": 5,
   "id": "493f2497",
   "metadata": {
    "scrolled": true
   },
   "outputs": [
    {
     "name": "stdout",
     "output_type": "stream",
     "text": [
      "<class 'pandas.core.frame.DataFrame'>\n",
      "RangeIndex: 100 entries, 0 to 99\n",
      "Data columns (total 4 columns):\n",
      " #   Column     Non-Null Count  Dtype  \n",
      "---  ------     --------------  -----  \n",
      " 0   Date/Time  100 non-null    object \n",
      " 1   Lat        100 non-null    float64\n",
      " 2   Lon        100 non-null    float64\n",
      " 3   Base       100 non-null    object \n",
      "dtypes: float64(2), object(2)\n",
      "memory usage: 3.2+ KB\n"
     ]
    }
   ],
   "source": [
    "#Understand the dataset properties\n",
    "uber_df.info()"
   ]
  },
  {
   "cell_type": "markdown",
   "id": "efb2dd41",
   "metadata": {},
   "source": [
    "#### Let's break the Date/Time column to \"Day\", \"Hour\", & \"Weekday\"."
   ]
  },
  {
   "cell_type": "code",
   "execution_count": 6,
   "id": "6eab0dcf",
   "metadata": {},
   "outputs": [
    {
     "data": {
      "text/html": [
       "<div>\n",
       "<style scoped>\n",
       "    .dataframe tbody tr th:only-of-type {\n",
       "        vertical-align: middle;\n",
       "    }\n",
       "\n",
       "    .dataframe tbody tr th {\n",
       "        vertical-align: top;\n",
       "    }\n",
       "\n",
       "    .dataframe thead th {\n",
       "        text-align: right;\n",
       "    }\n",
       "</style>\n",
       "<table border=\"1\" class=\"dataframe\">\n",
       "  <thead>\n",
       "    <tr style=\"text-align: right;\">\n",
       "      <th></th>\n",
       "      <th>Date/Time</th>\n",
       "      <th>Lat</th>\n",
       "      <th>Lon</th>\n",
       "      <th>Base</th>\n",
       "      <th>Day</th>\n",
       "      <th>Hour</th>\n",
       "      <th>Weekday</th>\n",
       "    </tr>\n",
       "  </thead>\n",
       "  <tbody>\n",
       "    <tr>\n",
       "      <th>0</th>\n",
       "      <td>2014-09-01 00:01:00</td>\n",
       "      <td>40.2201</td>\n",
       "      <td>-74.0021</td>\n",
       "      <td>B02512</td>\n",
       "      <td>1</td>\n",
       "      <td>0</td>\n",
       "      <td>0</td>\n",
       "    </tr>\n",
       "    <tr>\n",
       "      <th>1</th>\n",
       "      <td>2014-09-01 00:01:00</td>\n",
       "      <td>40.7500</td>\n",
       "      <td>-74.0027</td>\n",
       "      <td>B02512</td>\n",
       "      <td>1</td>\n",
       "      <td>0</td>\n",
       "      <td>0</td>\n",
       "    </tr>\n",
       "    <tr>\n",
       "      <th>2</th>\n",
       "      <td>2014-09-01 00:03:00</td>\n",
       "      <td>40.7559</td>\n",
       "      <td>-73.9864</td>\n",
       "      <td>B02512</td>\n",
       "      <td>1</td>\n",
       "      <td>0</td>\n",
       "      <td>0</td>\n",
       "    </tr>\n",
       "    <tr>\n",
       "      <th>3</th>\n",
       "      <td>2014-09-01 00:06:00</td>\n",
       "      <td>40.7450</td>\n",
       "      <td>-73.9889</td>\n",
       "      <td>B02512</td>\n",
       "      <td>1</td>\n",
       "      <td>0</td>\n",
       "      <td>0</td>\n",
       "    </tr>\n",
       "    <tr>\n",
       "      <th>4</th>\n",
       "      <td>2014-09-01 00:11:00</td>\n",
       "      <td>40.8145</td>\n",
       "      <td>-73.9444</td>\n",
       "      <td>B02512</td>\n",
       "      <td>1</td>\n",
       "      <td>0</td>\n",
       "      <td>0</td>\n",
       "    </tr>\n",
       "  </tbody>\n",
       "</table>\n",
       "</div>"
      ],
      "text/plain": [
       "            Date/Time      Lat      Lon    Base  Day  Hour  Weekday\n",
       "0 2014-09-01 00:01:00  40.2201 -74.0021  B02512    1     0        0\n",
       "1 2014-09-01 00:01:00  40.7500 -74.0027  B02512    1     0        0\n",
       "2 2014-09-01 00:03:00  40.7559 -73.9864  B02512    1     0        0\n",
       "3 2014-09-01 00:06:00  40.7450 -73.9889  B02512    1     0        0\n",
       "4 2014-09-01 00:11:00  40.8145 -73.9444  B02512    1     0        0"
      ]
     },
     "execution_count": 6,
     "metadata": {},
     "output_type": "execute_result"
    }
   ],
   "source": [
    "#Change the \"Date/Time\" column's data type from string to datetime\n",
    "uber_df['Date/Time']= pd.to_datetime(uber_df['Date/Time'])\n",
    "\n",
    "#Convert \"Date/Time\" column from string data type into DateTime\n",
    "uber_df[\"Day\"] = uber_df[\"Date/Time\"].apply(lambda x: x.day)\n",
    "uber_df[\"Hour\"] = uber_df[\"Date/Time\"].apply(lambda x: x.hour)\n",
    "uber_df[\"Weekday\"] = uber_df[\"Date/Time\"].apply(lambda x: x.weekday())\n",
    "uber_df.head(5)"
   ]
  },
  {
   "cell_type": "markdown",
   "id": "84ee8e9c",
   "metadata": {},
   "source": [
    "#### Now we can check the density of rides according to days, hours, and weekdays"
   ]
  },
  {
   "cell_type": "code",
   "execution_count": 7,
   "id": "890e8cb2",
   "metadata": {},
   "outputs": [
    {
     "data": {
      "text/plain": [
       "Text(0, 0.5, 'Density of rides')"
      ]
     },
     "execution_count": 7,
     "metadata": {},
     "output_type": "execute_result"
    },
    {
     "data": {
      "image/png": "[encoded data removed]",
      "text/plain": [
       "<Figure size 864x432 with 1 Axes>"
      ]
     },
     "metadata": {
      "needs_background": "light"
     },
     "output_type": "display_data"
    }
   ],
   "source": [
    "#Visualize the Density of rides per Day of month\n",
    "fig,ax = plt.subplots(figsize = (12,6))\n",
    "plt.hist(uber_df.Day, width= 0.6, bins= 30)\n",
    "plt.title(\"Density of trips per Day\", fontsize=16)\n",
    "plt.xlabel(\"Day\", fontsize=14)\n",
    "plt.ylabel(\"Density of rides\", fontsize=14)"
   ]
  },
  {
   "cell_type": "markdown",
   "id": "3a37e610",
   "metadata": {},
   "source": [
    "#### From the above plot we can notice that the highest number of rides are during working days (Monday to Friday), while the least number of rides are in weekends."
   ]
  },
  {
   "cell_type": "code",
   "execution_count": 8,
   "id": "2c748d00",
   "metadata": {},
   "outputs": [
    {
     "data": {
      "text/plain": [
       "Text(0, 0.5, 'Density of rides')"
      ]
     },
     "execution_count": 8,
     "metadata": {},
     "output_type": "execute_result"
    },
    {
     "data": {
      "image/png": "[encoded data removed]",
      "text/plain": [
       "<Figure size 864x432 with 1 Axes>"
      ]
     },
     "metadata": {
      "needs_background": "light"
     },
     "output_type": "display_data"
    }
   ],
   "source": [
    "#Visualize the Density of rides per Weekday\n",
    "fig,ax = plt.subplots(figsize = (12,6))\n",
    "plt.hist(uber_df.Weekday, width= 0.6, range= (0, 6.5), bins=7, color= \"green\")\n",
    "plt.title(\"Density of trips per Weekday\", fontsize=16)\n",
    "plt.xlabel(\"Weekday\", fontsize=14)\n",
    "plt.ylabel(\"Density of rides\", fontsize=14)"
   ]
  },
  {
   "cell_type": "markdown",
   "id": "36609fd6",
   "metadata": {},
   "source": [
    "#### The busiest day in the week for Uber is Monday. On the other hand, Saturday is the day with the least number of rides."
   ]
  },
  {
   "cell_type": "code",
   "execution_count": 9,
   "id": "ab73054b",
   "metadata": {},
   "outputs": [
    {
     "data": {
      "text/plain": [
       "Text(0, 0.5, 'Density of rides')"
      ]
     },
     "execution_count": 9,
     "metadata": {},
     "output_type": "execute_result"
    },
    {
     "data": {
      "image/png": "[encoded data removed]",
      "text/plain": [
       "<Figure size 864x432 with 1 Axes>"
      ]
     },
     "metadata": {
      "needs_background": "light"
     },
     "output_type": "display_data"
    }
   ],
   "source": [
    "#Visualize the Density of rides per hour\n",
    "fig,ax = plt.subplots(figsize = (12,6))\n",
    "plt.hist(uber_df.Hour, width= 0.6, bins=24, color= \"orange\")\n",
    "plt.title(\"Density of trips per Hour\", fontsize=16)\n",
    "plt.xlabel(\"Hour\", fontsize=14)\n",
    "plt.ylabel(\"Density of rides\", fontsize=14)"
   ]
  },
  {
   "cell_type": "markdown",
   "id": "f0bc27fb",
   "metadata": {},
   "source": [
    "#### It seems like the number of rides decrease gradually from 1 AM to 4 PM and then increases starting from 5 AM onward till it reaches 6 PM which is the hour with the highest number of rides."
   ]
  },
  {
   "cell_type": "code",
   "execution_count": 10,
   "id": "5e4af60e",
   "metadata": {},
   "outputs": [
    {
     "data": {
      "text/plain": [
       "Text(0, 0.5, 'Density of rides')"
      ]
     },
     "execution_count": 10,
     "metadata": {},
     "output_type": "execute_result"
    },
    {
     "data": {
      "image/png": "[encoded data removed]",
      "text/plain": [
       "<Figure size 864x432 with 1 Axes>"
      ]
     },
     "metadata": {
      "needs_background": "light"
     },
     "output_type": "display_data"
    }
   ],
   "source": [
    "#Visualize the Density of rides per location\n",
    "fig,ax = plt.subplots(figsize = (12,6))\n",
    "x= uber_df.Lon\n",
    "y= uber_df.Lat\n",
    "plt.scatter(x, y, color= \"purple\")\n",
    "plt.title(\"Density of trips per Hour\", fontsize=16)\n",
    "plt.xlabel(\"Hour\", fontsize=14)\n",
    "plt.ylabel(\"Density of rides\", fontsize=14)"
   ]
  },
  {
   "cell_type": "markdown",
   "id": "a1dca4d2",
   "metadata": {},
   "source": [
    "#### The region with the highest density of rides is near Manhattan and Newburgh. While the region with the lowest density is near New Jersey.\n"
   ]
  },
  {
   "cell_type": "code",
   "execution_count": 11,
   "id": "5fd447ab",
   "metadata": {},
   "outputs": [
    {
     "name": "stdout",
     "output_type": "stream",
     "text": [
      "Steinecke, Potsdamer Platz, Tiergarten, Mitte, Berlin, 10785, Deutschland\n"
     ]
    }
   ],
   "source": [
    "geolocator = Nominatim(user_agent=\"coordinateconverter\")\n",
    "location = geolocator.reverse(\"52.509669, 13.376294\")\n",
    "print(location.address)"
   ]
  },
  {
   "cell_type": "code",
   "execution_count": 12,
   "id": "caba0f9e",
   "metadata": {},
   "outputs": [
    {
     "data": {
      "application/vnd.plotly.v1+json": {
       "config": {
        "plotlyServerURL": "https://plot.ly"
       },
       "data": [
        {
         "hovertemplate": "Lat=%{lat}<br>Lon=%{lon}<extra></extra>",
         "lat": [
          40.2201,
          40.75,
          40.7559,
          40.745,
          40.8145,
          40.6735,
          40.7471,
          40.6613,
          40.3745,
          40.7633,
          40.7467,
          40.8105,
          40.679,
          40.4023,
          40.7378,
          40.7214,
          40.8646,
          40.7398,
          40.6793,
          40.7328,
          40.6743,
          40.7638,
          40.7638,
          40.7415,
          40.7445,
          40.6614,
          40.7494,
          40.7529,
          41.0319,
          40.7983,
          40.6932,
          40.707,
          40.7193,
          40.7608,
          40.8293,
          40.7612,
          40.7215,
          40.7778,
          40.7501,
          40.7769,
          40.7499,
          40.7513,
          40.7291,
          40.7674,
          40.7414,
          40.7685,
          40.8298,
          40.6878,
          40.7686,
          40.7878,
          40.7636,
          40.7364,
          40.7593,
          40.7955,
          40.7303,
          40.756,
          40.7558,
          40.7739,
          40.6788,
          40.6897,
          40.7359,
          40.7312,
          40.7255,
          40.7344,
          40.7878,
          40.7666,
          40.751,
          40.764,
          40.7173,
          40.763,
          40.7553,
          40.6874,
          40.8205,
          40.7459,
          40.7798,
          40.695,
          40.695,
          40.7375,
          40.722,
          40.7277,
          40.7457,
          40.8449,
          40.5896,
          40.7644,
          40.7275,
          40.7556,
          40.7215,
          40.6917,
          40.7557,
          40.7202,
          40.7324,
          40.7435,
          40.7739,
          40.6211,
          40.7894,
          40.756,
          40.7654,
          40.7629,
          40.7587,
          40.774
         ],
         "legendgroup": "",
         "lon": [
          -74.0021,
          -74.0027,
          -73.9864,
          -73.9889,
          -73.9444,
          -73.9918,
          -73.6472,
          -74.2691,
          -73.9999,
          -73.9773,
          -73.6131,
          -73.96,
          -74.0111,
          -73.9839,
          -74.0395,
          -73.9884,
          -73.9081,
          -74.0061,
          -74.0116,
          -73.9875,
          -73.9334,
          -73.9962,
          -73.9811,
          -73.9975,
          -73.9855,
          -73.9409,
          -73.9946,
          -74.004,
          -74.1813,
          -73.9628,
          -73.943,
          -74.0045,
          -73.9998,
          -73.9859,
          -73.9432,
          -73.9874,
          -73.9841,
          -73.9888,
          -74.0025,
          -73.9862,
          -73.9717,
          -73.935,
          -73.9813,
          -73.9841,
          -73.9983,
          -73.8626,
          -73.9719,
          -73.9562,
          -73.8626,
          -73.5375,
          -73.9911,
          -73.9966,
          -73.9752,
          -74.2537,
          -73.9998,
          -73.9728,
          -73.9764,
          -73.8725,
          -73.9586,
          -73.9724,
          -73.9838,
          -74.0047,
          -74.01,
          -73.9859,
          -73.9537,
          -73.9903,
          -74.0337,
          -73.9793,
          -73.9499,
          -73.9597,
          -73.973,
          -73.998,
          -73.9541,
          -73.9883,
          -74.0089,
          -74.178,
          -74.178,
          -73.9799,
          -73.9882,
          -73.9895,
          -74.0261,
          -73.9371,
          -73.7384,
          -73.9958,
          -74.0386,
          -73.9818,
          -74.0045,
          -73.9425,
          -73.9923,
          -73.9962,
          -73.9971,
          -73.9757,
          -73.8717,
          -73.9903,
          -73.9754,
          -73.9734,
          -73.9826,
          -73.9815,
          -73.9843,
          -73.8722
         ],
         "marker": {
          "color": "#636efa"
         },
         "mode": "markers",
         "name": "",
         "showlegend": false,
         "subplot": "mapbox",
         "type": "scattermapbox"
        }
       ],
       "layout": {
        "legend": {
         "tracegroupgap": 0
        },
        "mapbox": {
         "center": {
          "lat": 40.734561,
          "lon": -73.974965
         },
         "domain": {
          "x": [
           0,
           1
          ],
          "y": [
           0,
           1
          ]
         },
         "zoom": 15
        },
        "margin": {
         "t": 60
        },
        "template": {
         "data": {
          "bar": [
           {
            "error_x": {
             "color": "#2a3f5f"
            },
            "error_y": {
             "color": "#2a3f5f"
            },
            "marker": {
             "line": {
              "color": "#E5ECF6",
              "width": 0.5
             },
             "pattern": {
              "fillmode": "overlay",
              "size": 10,
              "solidity": 0.2
             }
            },
            "type": "bar"
           }
          ],
          "barpolar": [
           {
            "marker": {
             "line": {
              "color": "#E5ECF6",
              "width": 0.5
             },
             "pattern": {
              "fillmode": "overlay",
              "size": 10,
              "solidity": 0.2
             }
            },
            "type": "barpolar"
           }
          ],
          "carpet": [
           {
            "aaxis": {
             "endlinecolor": "#2a3f5f",
             "gridcolor": "white",
             "linecolor": "white",
             "minorgridcolor": "white",
             "startlinecolor": "#2a3f5f"
            },
            "baxis": {
             "endlinecolor": "#2a3f5f",
             "gridcolor": "white",
             "linecolor": "white",
             "minorgridcolor": "white",
             "startlinecolor": "#2a3f5f"
            },
            "type": "carpet"
           }
          ],
          "choropleth": [
           {
            "colorbar": {
             "outlinewidth": 0,
             "ticks": ""
            },
            "type": "choropleth"
           }
          ],
          "contour": [
           {
            "colorbar": {
             "outlinewidth": 0,
             "ticks": ""
            },
            "colorscale": [
             [
              0,
              "#0d0887"
             ],
             [
              0.1111111111111111,
              "#46039f"
             ],
             [
              0.2222222222222222,
              "#7201a8"
             ],
             [
              0.3333333333333333,
              "#9c179e"
             ],
             [
              0.4444444444444444,
              "#bd3786"
             ],
             [
              0.5555555555555556,
              "#d8576b"
             ],
             [
              0.6666666666666666,
              "#ed7953"
             ],
             [
              0.7777777777777778,
              "#fb9f3a"
             ],
             [
              0.8888888888888888,
              "#fdca26"
             ],
             [
              1,
              "#f0f921"
             ]
            ],
            "type": "contour"
           }
          ],
          "contourcarpet": [
           {
            "colorbar": {
             "outlinewidth": 0,
             "ticks": ""
            },
            "type": "contourcarpet"
           }
          ],
          "heatmap": [
           {
            "colorbar": {
             "outlinewidth": 0,
             "ticks": ""
            },
            "colorscale": [
             [
              0,
              "#0d0887"
             ],
             [
              0.1111111111111111,
              "#46039f"
             ],
             [
              0.2222222222222222,
              "#7201a8"
             ],
             [
              0.3333333333333333,
              "#9c179e"
             ],
             [
              0.4444444444444444,
              "#bd3786"
             ],
             [
              0.5555555555555556,
              "#d8576b"
             ],
             [
              0.6666666666666666,
              "#ed7953"
             ],
             [
              0.7777777777777778,
              "#fb9f3a"
             ],
             [
              0.8888888888888888,
              "#fdca26"
             ],
             [
              1,
              "#f0f921"
             ]
            ],
            "type": "heatmap"
           }
          ],
          "heatmapgl": [
           {
            "colorbar": {
             "outlinewidth": 0,
             "ticks": ""
            },
            "colorscale": [
             [
              0,
              "#0d0887"
             ],
             [
              0.1111111111111111,
              "#46039f"
             ],
             [
              0.2222222222222222,
              "#7201a8"
             ],
             [
              0.3333333333333333,
              "#9c179e"
             ],
             [
              0.4444444444444444,
              "#bd3786"
             ],
             [
              0.5555555555555556,
              "#d8576b"
             ],
             [
              0.6666666666666666,
              "#ed7953"
             ],
             [
              0.7777777777777778,
              "#fb9f3a"
             ],
             [
              0.8888888888888888,
              "#fdca26"
             ],
             [
              1,
              "#f0f921"
             ]
            ],
            "type": "heatmapgl"
           }
          ],
          "histogram": [
           {
            "marker": {
             "pattern": {
              "fillmode": "overlay",
              "size": 10,
              "solidity": 0.2
             }
            },
            "type": "histogram"
           }
          ],
          "histogram2d": [
           {
            "colorbar": {
             "outlinewidth": 0,
             "ticks": ""
            },
            "colorscale": [
             [
              0,
              "#0d0887"
             ],
             [
              0.1111111111111111,
              "#46039f"
             ],
             [
              0.2222222222222222,
              "#7201a8"
             ],
             [
              0.3333333333333333,
              "#9c179e"
             ],
             [
              0.4444444444444444,
              "#bd3786"
             ],
             [
              0.5555555555555556,
              "#d8576b"
             ],
             [
              0.6666666666666666,
              "#ed7953"
             ],
             [
              0.7777777777777778,
              "#fb9f3a"
             ],
             [
              0.8888888888888888,
              "#fdca26"
             ],
             [
              1,
              "#f0f921"
             ]
            ],
            "type": "histogram2d"
           }
          ],
          "histogram2dcontour": [
           {
            "colorbar": {
             "outlinewidth": 0,
             "ticks": ""
            },
            "colorscale": [
             [
              0,
              "#0d0887"
             ],
             [
              0.1111111111111111,
              "#46039f"
             ],
             [
              0.2222222222222222,
              "#7201a8"
             ],
             [
              0.3333333333333333,
              "#9c179e"
             ],
             [
              0.4444444444444444,
              "#bd3786"
             ],
             [
              0.5555555555555556,
              "#d8576b"
             ],
             [
              0.6666666666666666,
              "#ed7953"
             ],
             [
              0.7777777777777778,
              "#fb9f3a"
             ],
             [
              0.8888888888888888,
              "#fdca26"
             ],
             [
              1,
              "#f0f921"
             ]
            ],
            "type": "histogram2dcontour"
           }
          ],
          "mesh3d": [
           {
            "colorbar": {
             "outlinewidth": 0,
             "ticks": ""
            },
            "type": "mesh3d"
           }
          ],
          "parcoords": [
           {
            "line": {
             "colorbar": {
              "outlinewidth": 0,
              "ticks": ""
             }
            },
            "type": "parcoords"
           }
          ],
          "pie": [
           {
            "automargin": true,
            "type": "pie"
           }
          ],
          "scatter": [
           {
            "fillpattern": {
             "fillmode": "overlay",
             "size": 10,
             "solidity": 0.2
            },
            "type": "scatter"
           }
          ],
          "scatter3d": [
           {
            "line": {
             "colorbar": {
              "outlinewidth": 0,
              "ticks": ""
             }
            },
            "marker": {
             "colorbar": {
              "outlinewidth": 0,
              "ticks": ""
             }
            },
            "type": "scatter3d"
           }
          ],
          "scattercarpet": [
           {
            "marker": {
             "colorbar": {
              "outlinewidth": 0,
              "ticks": ""
             }
            },
            "type": "scattercarpet"
           }
          ],
          "scattergeo": [
           {
            "marker": {
             "colorbar": {
              "outlinewidth": 0,
              "ticks": ""
             }
            },
            "type": "scattergeo"
           }
          ],
          "scattergl": [
           {
            "marker": {
             "colorbar": {
              "outlinewidth": 0,
              "ticks": ""
             }
            },
            "type": "scattergl"
           }
          ],
          "scattermapbox": [
           {
            "marker": {
             "colorbar": {
              "outlinewidth": 0,
              "ticks": ""
             }
            },
            "type": "scattermapbox"
           }
          ],
          "scatterpolar": [
           {
            "marker": {
             "colorbar": {
              "outlinewidth": 0,
              "ticks": ""
             }
            },
            "type": "scatterpolar"
           }
          ],
          "scatterpolargl": [
           {
            "marker": {
             "colorbar": {
              "outlinewidth": 0,
              "ticks": ""
             }
            },
            "type": "scatterpolargl"
           }
          ],
          "scatterternary": [
           {
            "marker": {
             "colorbar": {
              "outlinewidth": 0,
              "ticks": ""
             }
            },
            "type": "scatterternary"
           }
          ],
          "surface": [
           {
            "colorbar": {
             "outlinewidth": 0,
             "ticks": ""
            },
            "colorscale": [
             [
              0,
              "#0d0887"
             ],
             [
              0.1111111111111111,
              "#46039f"
             ],
             [
              0.2222222222222222,
              "#7201a8"
             ],
             [
              0.3333333333333333,
              "#9c179e"
             ],
             [
              0.4444444444444444,
              "#bd3786"
             ],
             [
              0.5555555555555556,
              "#d8576b"
             ],
             [
              0.6666666666666666,
              "#ed7953"
             ],
             [
              0.7777777777777778,
              "#fb9f3a"
             ],
             [
              0.8888888888888888,
              "#fdca26"
             ],
             [
              1,
              "#f0f921"
             ]
            ],
            "type": "surface"
           }
          ],
          "table": [
           {
            "cells": {
             "fill": {
              "color": "#EBF0F8"
             },
             "line": {
              "color": "white"
             }
            },
            "header": {
             "fill": {
              "color": "#C8D4E3"
             },
             "line": {
              "color": "white"
             }
            },
            "type": "table"
           }
          ]
         },
         "layout": {
          "annotationdefaults": {
           "arrowcolor": "#2a3f5f",
           "arrowhead": 0,
           "arrowwidth": 1
          },
          "autotypenumbers": "strict",
          "coloraxis": {
           "colorbar": {
            "outlinewidth": 0,
            "ticks": ""
           }
          },
          "colorscale": {
           "diverging": [
            [
             0,
             "#8e0152"
            ],
            [
             0.1,
             "#c51b7d"
            ],
            [
             0.2,
             "#de77ae"
            ],
            [
             0.3,
             "#f1b6da"
            ],
            [
             0.4,
             "#fde0ef"
            ],
            [
             0.5,
             "#f7f7f7"
            ],
            [
             0.6,
             "#e6f5d0"
            ],
            [
             0.7,
             "#b8e186"
            ],
            [
             0.8,
             "#7fbc41"
            ],
            [
             0.9,
             "#4d9221"
            ],
            [
             1,
             "#276419"
            ]
           ],
           "sequential": [
            [
             0,
             "#0d0887"
            ],
            [
             0.1111111111111111,
             "#46039f"
            ],
            [
             0.2222222222222222,
             "#7201a8"
            ],
            [
             0.3333333333333333,
             "#9c179e"
            ],
            [
             0.4444444444444444,
             "#bd3786"
            ],
            [
             0.5555555555555556,
             "#d8576b"
            ],
            [
             0.6666666666666666,
             "#ed7953"
            ],
            [
             0.7777777777777778,
             "#fb9f3a"
            ],
            [
             0.8888888888888888,
             "#fdca26"
            ],
            [
             1,
             "#f0f921"
            ]
           ],
           "sequentialminus": [
            [
             0,
             "#0d0887"
            ],
            [
             0.1111111111111111,
             "#46039f"
            ],
            [
             0.2222222222222222,
             "#7201a8"
            ],
            [
             0.3333333333333333,
             "#9c179e"
            ],
            [
             0.4444444444444444,
             "#bd3786"
            ],
            [
             0.5555555555555556,
             "#d8576b"
            ],
            [
             0.6666666666666666,
             "#ed7953"
            ],
            [
             0.7777777777777778,
             "#fb9f3a"
            ],
            [
             0.8888888888888888,
             "#fdca26"
            ],
            [
             1,
             "#f0f921"
            ]
           ]
          },
          "colorway": [
           "#636efa",
           "#EF553B",
           "#00cc96",
           "#ab63fa",
           "#FFA15A",
           "#19d3f3",
           "#FF6692",
           "#B6E880",
           "#FF97FF",
           "#FECB52"
          ],
          "font": {
           "color": "#2a3f5f"
          },
          "geo": {
           "bgcolor": "white",
           "lakecolor": "white",
           "landcolor": "#E5ECF6",
           "showlakes": true,
           "showland": true,
           "subunitcolor": "white"
          },
          "hoverlabel": {
           "align": "left"
          },
          "hovermode": "closest",
          "mapbox": {
           "style": "light"
          },
          "paper_bgcolor": "white",
          "plot_bgcolor": "#E5ECF6",
          "polar": {
           "angularaxis": {
            "gridcolor": "white",
            "linecolor": "white",
            "ticks": ""
           },
           "bgcolor": "#E5ECF6",
           "radialaxis": {
            "gridcolor": "white",
            "linecolor": "white",
            "ticks": ""
           }
          },
          "scene": {
           "xaxis": {
            "backgroundcolor": "#E5ECF6",
            "gridcolor": "white",
            "gridwidth": 2,
            "linecolor": "white",
            "showbackground": true,
            "ticks": "",
            "zerolinecolor": "white"
           },
           "yaxis": {
            "backgroundcolor": "#E5ECF6",
            "gridcolor": "white",
            "gridwidth": 2,
            "linecolor": "white",
            "showbackground": true,
            "ticks": "",
            "zerolinecolor": "white"
           },
           "zaxis": {
            "backgroundcolor": "#E5ECF6",
            "gridcolor": "white",
            "gridwidth": 2,
            "linecolor": "white",
            "showbackground": true,
            "ticks": "",
            "zerolinecolor": "white"
           }
          },
          "shapedefaults": {
           "line": {
            "color": "#2a3f5f"
           }
          },
          "ternary": {
           "aaxis": {
            "gridcolor": "white",
            "linecolor": "white",
            "ticks": ""
           },
           "baxis": {
            "gridcolor": "white",
            "linecolor": "white",
            "ticks": ""
           },
           "bgcolor": "#E5ECF6",
           "caxis": {
            "gridcolor": "white",
            "linecolor": "white",
            "ticks": ""
           }
          },
          "title": {
           "x": 0.05
          },
          "xaxis": {
           "automargin": true,
           "gridcolor": "white",
           "linecolor": "white",
           "ticks": "",
           "title": {
            "standoff": 15
           },
           "zerolinecolor": "white",
           "zerolinewidth": 2
          },
          "yaxis": {
           "automargin": true,
           "gridcolor": "white",
           "linecolor": "white",
           "ticks": "",
           "title": {
            "standoff": 15
           },
           "zerolinecolor": "white",
           "zerolinewidth": 2
          }
         }
        }
       }
      }
     },
     "metadata": {},
     "output_type": "display_data"
    }
   ],
   "source": [
    "px.scatter_mapbox(uber_df, lat=\"Lat\", lon=\"Lon\", zoom=15)"
   ]
  },
  {
   "cell_type": "code",
   "execution_count": 13,
   "id": "0da911cc",
   "metadata": {},
   "outputs": [
    {
     "name": "stderr",
     "output_type": "stream",
     "text": [
      "100%|██████████| 100/100 [00:50<00:00,  1.99it/s]\n"
     ]
    }
   ],
   "source": [
    "uber_df[\"Geom\"] = uber_df[\"Lat\"].map(str) + \",\" + uber_df[\"Lon\"].map(str)\n",
    "uber_df[\"Geom\"][0]\n",
    "\n",
    "locator = Nominatim(user_agent=\"myGeocoder\", timeout=10)\n",
    "rgeocode = RateLimiter(locator.reverse, min_delay_seconds=0.001)\n",
    "tqdm.pandas()\n",
    "uber_df.head(5)\n",
    "uber_df[\"Address\"] = uber_df[\"Geom\"].progress_apply(rgeocode)\n"
   ]
  },
  {
   "cell_type": "code",
   "execution_count": 14,
   "id": "0f0a5005",
   "metadata": {},
   "outputs": [
    {
     "data": {
      "text/html": [
       "<div>\n",
       "<style scoped>\n",
       "    .dataframe tbody tr th:only-of-type {\n",
       "        vertical-align: middle;\n",
       "    }\n",
       "\n",
       "    .dataframe tbody tr th {\n",
       "        vertical-align: top;\n",
       "    }\n",
       "\n",
       "    .dataframe thead th {\n",
       "        text-align: right;\n",
       "    }\n",
       "</style>\n",
       "<table border=\"1\" class=\"dataframe\">\n",
       "  <thead>\n",
       "    <tr style=\"text-align: right;\">\n",
       "      <th></th>\n",
       "      <th>Date/Time</th>\n",
       "      <th>Lat</th>\n",
       "      <th>Lon</th>\n",
       "      <th>Base</th>\n",
       "      <th>Day</th>\n",
       "      <th>Hour</th>\n",
       "      <th>Weekday</th>\n",
       "      <th>Geom</th>\n",
       "      <th>Address</th>\n",
       "      <th>Country</th>\n",
       "    </tr>\n",
       "  </thead>\n",
       "  <tbody>\n",
       "    <tr>\n",
       "      <th>0</th>\n",
       "      <td>2014-09-01 00:01:00</td>\n",
       "      <td>40.2201</td>\n",
       "      <td>-74.0021</td>\n",
       "      <td>B02512</td>\n",
       "      <td>1</td>\n",
       "      <td>0</td>\n",
       "      <td>0</td>\n",
       "      <td>40.2201,-74.0021</td>\n",
       "      <td>(Porta, Kingsley Street, Asbury Park, Monmouth...</td>\n",
       "      <td>United States</td>\n",
       "    </tr>\n",
       "    <tr>\n",
       "      <th>1</th>\n",
       "      <td>2014-09-01 00:01:00</td>\n",
       "      <td>40.7500</td>\n",
       "      <td>-74.0027</td>\n",
       "      <td>B02512</td>\n",
       "      <td>1</td>\n",
       "      <td>0</td>\n",
       "      <td>0</td>\n",
       "      <td>40.75,-74.0027</td>\n",
       "      <td>(289, 10th Avenue, Chelsea District, Manhattan...</td>\n",
       "      <td>United States</td>\n",
       "    </tr>\n",
       "    <tr>\n",
       "      <th>2</th>\n",
       "      <td>2014-09-01 00:03:00</td>\n",
       "      <td>40.7559</td>\n",
       "      <td>-73.9864</td>\n",
       "      <td>B02512</td>\n",
       "      <td>1</td>\n",
       "      <td>0</td>\n",
       "      <td>0</td>\n",
       "      <td>40.7559,-73.9864</td>\n",
       "      <td>(42nd Street–Times Square–Port Authority Bus T...</td>\n",
       "      <td>United States</td>\n",
       "    </tr>\n",
       "    <tr>\n",
       "      <th>3</th>\n",
       "      <td>2014-09-01 00:06:00</td>\n",
       "      <td>40.7450</td>\n",
       "      <td>-73.9889</td>\n",
       "      <td>B02512</td>\n",
       "      <td>1</td>\n",
       "      <td>0</td>\n",
       "      <td>0</td>\n",
       "      <td>40.745,-73.9889</td>\n",
       "      <td>(28th Street, Broadway, Manhattan Community Bo...</td>\n",
       "      <td>United States</td>\n",
       "    </tr>\n",
       "    <tr>\n",
       "      <th>4</th>\n",
       "      <td>2014-09-01 00:11:00</td>\n",
       "      <td>40.8145</td>\n",
       "      <td>-73.9444</td>\n",
       "      <td>B02512</td>\n",
       "      <td>1</td>\n",
       "      <td>0</td>\n",
       "      <td>0</td>\n",
       "      <td>40.8145,-73.9444</td>\n",
       "      <td>(2274, Adam Clayton Powell Jr. Boulevard, Harl...</td>\n",
       "      <td>United States</td>\n",
       "    </tr>\n",
       "  </tbody>\n",
       "</table>\n",
       "</div>"
      ],
      "text/plain": [
       "            Date/Time      Lat      Lon    Base  Day  Hour  Weekday  \\\n",
       "0 2014-09-01 00:01:00  40.2201 -74.0021  B02512    1     0        0   \n",
       "1 2014-09-01 00:01:00  40.7500 -74.0027  B02512    1     0        0   \n",
       "2 2014-09-01 00:03:00  40.7559 -73.9864  B02512    1     0        0   \n",
       "3 2014-09-01 00:06:00  40.7450 -73.9889  B02512    1     0        0   \n",
       "4 2014-09-01 00:11:00  40.8145 -73.9444  B02512    1     0        0   \n",
       "\n",
       "               Geom                                            Address  \\\n",
       "0  40.2201,-74.0021  (Porta, Kingsley Street, Asbury Park, Monmouth...   \n",
       "1    40.75,-74.0027  (289, 10th Avenue, Chelsea District, Manhattan...   \n",
       "2  40.7559,-73.9864  (42nd Street–Times Square–Port Authority Bus T...   \n",
       "3   40.745,-73.9889  (28th Street, Broadway, Manhattan Community Bo...   \n",
       "4  40.8145,-73.9444  (2274, Adam Clayton Powell Jr. Boulevard, Harl...   \n",
       "\n",
       "          Country  \n",
       "0   United States  \n",
       "1   United States  \n",
       "2   United States  \n",
       "3   United States  \n",
       "4   United States  "
      ]
     },
     "execution_count": 14,
     "metadata": {},
     "output_type": "execute_result"
    }
   ],
   "source": [
    "uber_df.head()\n",
    "uber_df['Country'] = uber_df['Address'].apply(str).str.split(',').str[-1]\n",
    "uber_df.to_csv('uber_df.csv')\n",
    "uber_df.head(5)"
   ]
  }
 ],
 "metadata": {
  "kernelspec": {
   "display_name": "Python 3.10.6 ('myvenv': venv)",
   "language": "python",
   "name": "python3"
  },
  "language_info": {
   "codemirror_mode": {
    "name": "ipython",
    "version": 3
   },
   "file_extension": ".py",
   "mimetype": "text/x-python",
   "name": "python",
   "nbconvert_exporter": "python",
   "pygments_lexer": "ipython3",
   "version": "3.10.6"
  },
  "vscode": {
   "interpreter": {
    "hash": "d2a2cd60416322b1204d41d9d61fdc8d6a1b265a9e34fd4f8dc2aae5330770b7"
   }
  }
 },
 "nbformat": 4,
 "nbformat_minor": 5
}
